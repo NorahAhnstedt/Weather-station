{
 "cells": [
  {
   "cell_type": "code",
   "execution_count": null,
   "metadata": {},
   "outputs": [
    {
     "ename": "",
     "evalue": "",
     "output_type": "error",
     "traceback": [
      "\u001b[1;31mRunning cells with 'Python 3.11.2' requires the ipykernel package.\n",
      "\u001b[1;31mRun the following command to install 'ipykernel' into the Python environment. \n",
      "\u001b[1;31mCommand: '/bin/python -m pip install ipykernel -U --user --force-reinstall'"
     ]
    }
   ],
   "source": [
    "import requests\n",
    "from bs4 import BeautifulSoup\n",
    "import csv\n",
    "import time\n",
    "from datetime import datetime \n",
    "\n",
    "with open(\"WeatherStation.csv\", \"w\") as file:\n",
    "    writer = csv.writer(file)\n",
    "    writer.writerow([\"Time\", \"Date\", \"High (°F)\", \"Low (°F)\", \"Current (°F)\"])\n",
    "\n",
    "\n",
    "def fetch_temperature():\n",
    "    current_time = datetime.now().strftime(\"%H:%M\")\n",
    "    current_date = datetime.now().strftime(\"%Y-%m-%d\")\n",
    "\n",
    "    URL = \"https://forecast.weather.gov/MapClick.php?lat=39.6127&lon=-105.0162\"\n",
    "    page = requests.get(URL)\n",
    "    soup = BeautifulSoup(page.content, \"html.parser\")\n",
    "\n",
    "    low_temp = soup.find(class_=\"temp temp-low\")\n",
    "    high_temp = soup.find(class_=\"temp temp-high\")\n",
    "    current_temp = soup.find(class_=\"myforecast-current-lrg\")   \n",
    "\n",
    "    with open(\"WeatherStation.csv\", mode=\"a\", newline=\"\") as file:\n",
    "            writer = csv.writer(file)\n",
    "            writer.writerow([current_time, current_date, high_temp.text, low_temp.text, current_temp.text])\n",
    "\n",
    "\n",
    "\n",
    "while True: \n",
    "    fetch_temperature()\n",
    "    time.sleep(3600)"
   ]
  }
 ],
 "metadata": {
  "kernelspec": {
   "display_name": "Python 3",
   "language": "python",
   "name": "python3"
  },
  "language_info": {
   "codemirror_mode": {
    "name": "ipython",
    "version": 3
   },
   "file_extension": ".py",
   "mimetype": "text/x-python",
   "name": "python",
   "nbconvert_exporter": "python",
   "pygments_lexer": "ipython3",
   "version": "3.11.2"
  }
 },
 "nbformat": 4,
 "nbformat_minor": 2
}
